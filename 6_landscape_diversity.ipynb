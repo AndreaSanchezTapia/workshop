{
  "cells": [
    {
      "cell_type": "raw",
      "metadata": {},
      "source": [
        "---\n",
        "title: Diversidade da paisagem\n",
        "---"
      ],
      "id": "63b8c587"
    },
    {
      "cell_type": "markdown",
      "metadata": {},
      "source": [
        "## Importando pacotes e inicializando *geemap*\n"
      ],
      "id": "55ce7778"
    },
    {
      "cell_type": "code",
      "metadata": {},
      "source": [
        "import os\n",
        "import ee\n",
        "import geemap"
      ],
      "id": "55c822db",
      "execution_count": null,
      "outputs": []
    },
    {
      "cell_type": "code",
      "metadata": {},
      "source": [
        "geemap.ee_initialize()"
      ],
      "id": "cf627740",
      "execution_count": null,
      "outputs": []
    },
    {
      "cell_type": "markdown",
      "metadata": {},
      "source": [
        "A diversidade da paisagem é uma métrica composta pelos valores de Z da variedade de *landforms*, amplitude altitudinal, *wetland score* e diversidade de solos. Inicialmente, a diversidade da paisage assume os valores de variedade de *landforms*. Nos locais onde a amplitude de elevação é maior que variedade de *landforms*, a diversidade da paisagem é substituída pela média ponderada entre as duas variáveis, atribuindo peso dobrado para a variedade de *landforms*. Locais onde wetland score é maior que a diversidade da paisagem calculada anteriormente, os valores são substituídos por wetland score. Na localidades onde a diversidade de solo é maior que a diversidade da paisagem, os valores são substituídos pela média ponderada das variáveis naquela localidade.\n",
        "\n",
        "## Base de Dados\n",
        "\n",
        "Os dados para a diversidade da paisagem são os criados na etapa de cálculo dos *Z-scores*, descrito anteriormente.\n",
        "\n",
        "## Códigos para a criação da diversidade da paisagem\n",
        "\n",
        "Nossas análises foram rodadas no Google Earth Engine (Gorelick 2017), devido a demanda computacional do projeto, usando o pacote geemap (Wu 2020) em Python (Python Software Foundation 2023) como interface pela facilidade na documentação e reprodutividade das análises.\n",
        "\n",
        "Nós importamos os dados de bioma para delimitar a região de análise e o raster do Brasil para que os mapas sejam cortados para o Brasil antes do cálculo da diversidadade da paisagem.\n"
      ],
      "id": "bde7f64c"
    },
    {
      "cell_type": "code",
      "metadata": {},
      "source": [
        "# Importando o polígono de bioma para definir as \n",
        "# coordenadas máximas e mínimas do Brasil\n",
        "\n",
        "bioma = ee.FeatureCollection(\"projects/ee-lucasljardim9/assets/Biome\")\n",
        "\n",
        "brasil_raster = ee.Image(\"projects/ee-lucasljardim9/assets/brasil_raster\")\n",
        "\n",
        "# ModeloDigital de Elevação para extrair a resolução\n",
        "DEM = ee.Image(\"MERIT/DEM/v1_0_3\")\n",
        "\n",
        "# função para extrair as bordas dos polígonos\n",
        "def func_cmp(feature):\n",
        "    return feature.bounds() \n",
        "\n",
        "# Extraindo as coordenadas mínimas e máximas do Brasil\n",
        "bioma_box = bioma.map(func_cmp).geometry().dissolve(**{'maxError': 1}).bounds()\n",
        "\n",
        "# Resolução das análises\n",
        "escala = DEM.projection().nominalScale()"
      ],
      "id": "36da9c70",
      "execution_count": null,
      "outputs": []
    },
    {
      "cell_type": "markdown",
      "metadata": {},
      "source": [
        "Importamos os mapas e cortamos para o raster do Brasil.\n"
      ],
      "id": "24768b83"
    },
    {
      "cell_type": "code",
      "metadata": {},
      "source": [
        "# Importando e cortando as imagens para o Brasil\n",
        "landform_Z = (ee.Image('projects/ee-lucasljardim9/assets/Z_landform_variety')\n",
        "              .updateMask(brasil_raster))\n",
        "\n",
        "elevation_range_Z = (ee.Image('projects/ee-lucasljardim9/assets/Z_elevation_range')\n",
        "                     .updateMask(brasil_raster))\n",
        "\n",
        "wetland_score = (ee.Image('projects/ee-lucasljardim9/assets/Z_wetlands_score')\n",
        "                 .updateMask(brasil_raster))\n",
        "\n",
        "soil_diversity =  (ee.Image('projects/ee-lucasljardim9/assets/Z_soil_diversity')\n",
        "                   .updateMask(brasil_raster))"
      ],
      "id": "c4f8fbfd",
      "execution_count": null,
      "outputs": []
    },
    {
      "cell_type": "markdown",
      "metadata": {},
      "source": [
        "Aqui começamos o cálculo da diversidade da paisagem, atribuindo à diversidade da paisagem os valores de variedade de *landforms*. Depois testamos os locais onde a amplitude de elevação é maior que a variedade de *landforms* e substituímos os valores.\n"
      ],
      "id": "de96cb80"
    },
    {
      "cell_type": "code",
      "metadata": {},
      "source": [
        "landscape_diversity = landform_Z\n",
        "\n",
        "# Testando se o Z da amplitude de elevação é maior que o Z da variedade de landsforms\n",
        "test_1 = elevation_range_Z.gt(landscape_diversity)\n",
        "\n",
        "# Média ponderada entre variedade de landforms e amplitude de elevação\n",
        "average_elevation = landform_Z.multiply(2).add(elevation_range_Z).divide(3)\n",
        "\n",
        "# Substituindo os valores de variedade de landforms por amplitude de elevação \n",
        "# onde o segundo valor é maior que o primeiro\n",
        "landscape_diversity = landscape_diversity.where(test_1, average_elevation)"
      ],
      "id": "04be164d",
      "execution_count": null,
      "outputs": []
    },
    {
      "cell_type": "markdown",
      "metadata": {},
      "source": [
        "Agora, nós adicionamos *wetland score*, primeiro testando onde *wetland score* é maior que a diversidade da paisagem calculada anteriormente, e nos locais cujos valores de *wetland score* são maiores que a diversidade da paisagem, nós substituímos os valores.\n"
      ],
      "id": "ba60bc6a"
    },
    {
      "cell_type": "code",
      "metadata": {},
      "source": [
        "# testando onde wetland score é maior que a diversidade da paisagem\n",
        "# com variedade de landforms e amplitude de elevação\n",
        "test_2 = wetland_score.gt(landscape_diversity)\n",
        "\n",
        "# Médias para cada teste\n",
        "\n",
        "average_wetland_1 = landform_Z.multiply(2).add(elevation_range_Z).add(wetland_score).divide(4)\n",
        "\n",
        "average_wetland_2 = landform_Z.multiply(2).add(wetland_score).divide(3)\n",
        "\n",
        "# Substitua o valor de diversidade da paisagem por wetland score\n",
        "# onde o segundo é maior que o primeiro\n",
        "landscape_diversity = landscape_diversity.where(test_1.And(test_2), average_wetland_1)\n",
        "\n",
        "landscape_diversity = landscape_diversity.where(test_1.Not().And(test_2), average_wetland_2)"
      ],
      "id": "f056a71f",
      "execution_count": null,
      "outputs": []
    },
    {
      "cell_type": "markdown",
      "metadata": {},
      "source": [
        "A inclusão da diversidade de solos é um pouco mais complexa. Nós testamos onde a diversidade de solo é maior a diversidade da paisagem já calculada e substituímos os valores por 4 médias ponderadas diferentes, cada uma representando os passos anteriores. A primeira média é para os locais onde a diversidade de solos é maior que *wetland score*, que é maior que amplitude de elevação. Na segunda média, os valores são para as regiões com maior diversidade de solos, mas onde *wetland score* é menor que a amplitude de elevação. A terceira média é para locais onde a amplitude de elevação não é maior que variedade de *landforms*, mas possui valores menores de *wetland score*, que também são menores que a diversidade de solos. A quarta média é para locais onde somente a diversidade de solos é maior que a variedade de *landforms*.\n"
      ],
      "id": "891adc7f"
    },
    {
      "cell_type": "code",
      "metadata": {},
      "source": [
        "# teste onde diversidade de solo é maior que a diversidade da paisagem\n",
        "test_3 = soil_diversity.gt(landscape_diversity)\n",
        "\n",
        "# Calcule as médias ponderadas\n",
        "average_soil_1 = (landform_Z.multiply(2)\n",
        "                 .add(elevation_range_Z)\n",
        "                 .add(wetland_score)\n",
        "                 .add(soil_diversity)\n",
        "                 .divide(5))\n",
        "\n",
        "average_soil_2 = (landform_Z.multiply(2)\n",
        "                 .add(elevation_range_Z)\n",
        "                 .add(soil_diversity)\n",
        "                 .divide(4))\n",
        "\n",
        "average_soil_3 = (landform_Z.multiply(2)\n",
        "                 .add(wetland_score)\n",
        "                 .add(soil_diversity)\n",
        "                 .divide(4))\n",
        "\n",
        "average_soil_4 = (landform_Z.multiply(2)\n",
        "                 .add(soil_diversity)\n",
        "                 .divide(3))\n",
        "\n",
        "# Substitua os valores de diversidade da paisagem pela diversidade de solo\n",
        "# os os valores de solo são maiores\n",
        "landscape_diversity = (landscape_diversity\n",
        "                      .where(test_1.And(test_2).And(test_3), average_soil_1))\n",
        "\n",
        "landscape_diversity = (landscape_diversity\n",
        "                      .where(test_1.And(test_2.Not()).And(test_3), average_soil_2))\n",
        "\n",
        "landscape_diversity = (landscape_diversity\n",
        "                      .where(test_1.Not().And(test_2).And(test_3), average_soil_3))\n",
        "\n",
        "landscape_diversity = (landscape_diversity\n",
        "                      .where(test_1.Not().And(test_2.Not()).And(test_3), average_soil_4))"
      ],
      "id": "fdf959fb",
      "execution_count": null,
      "outputs": []
    },
    {
      "cell_type": "markdown",
      "metadata": {},
      "source": [
        " Finalizamos exportando o mapa de diversidade da paisagem como *asset* no *Google Earth Engine*.\n"
      ],
      "id": "b41e3330"
    },
    {
      "cell_type": "code",
      "metadata": {},
      "source": [
        "# Exporte o raster de diversidade da paisagem\n",
        "assetId = \"projects/ee-lucasljardim9/assets/landscape_diversity\"\n",
        "\n",
        "geemap.ee_export_image_to_asset(\n",
        "    landscape_diversity, \n",
        "    description='landscape_diversity', \n",
        "    assetId=assetId, \n",
        "    region=bioma_box, \n",
        "    scale=escala,\n",
        "    maxPixels=1e13\n",
        ")"
      ],
      "id": "c154fdbf",
      "execution_count": null,
      "outputs": []
    }
  ],
  "metadata": {
    "kernelspec": {
      "name": "python3",
      "language": "python",
      "display_name": "Python 3 (ipykernel)"
    }
  },
  "nbformat": 4,
  "nbformat_minor": 5
}