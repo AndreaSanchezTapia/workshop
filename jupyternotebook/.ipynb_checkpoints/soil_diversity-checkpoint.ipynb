{
 "cells": [
  {
   "cell_type": "markdown",
   "id": "c88fcb32",
   "metadata": {},
   "source": [
    "# Diversidade de solo"
   ]
  },
  {
   "cell_type": "markdown",
   "id": "af97816a",
   "metadata": {},
   "source": [
    "## Importando pacotes e inicializando *geemap*"
   ]
  },
  {
   "cell_type": "code",
   "execution_count": 2,
   "id": "b5b07bce",
   "metadata": {},
   "outputs": [],
   "source": [
    "import os\n",
    "import ee\n",
    "import geemap"
   ]
  },
  {
   "cell_type": "code",
   "execution_count": 3,
   "id": "4f339103",
   "metadata": {},
   "outputs": [],
   "source": [
    "geemap.ee_initialize()"
   ]
  },
  {
   "cell_type": "markdown",
   "id": "e6024a0a",
   "metadata": {},
   "source": [
    "A diversidade de solo é incluida na diversidade da paisagem em locais com baixa variedade de *landforms*, amplitude de elevação e *wetland score*. A diversidade de solos é calculada somando o número de tipos de solo presentes na vizinhaça da célula focal."
   ]
  },
  {
   "cell_type": "markdown",
   "id": "e6cb8a84",
   "metadata": {},
   "source": [
    "## Banda de Dados\n",
    "\n",
    "Nós utilizamos a base de dados de pedologia do Instituto Brasileiro de Geografia e Estatística (IBGE) como base para o cálculo da diversidade de solos. Ospolígonos foram posteriomente filtrados por tipo de solo e rasterizados na escala do modelo digital de elevação que usamos nas outras análises (~ 90 metros)."
   ]
  },
  {
   "cell_type": "markdown",
   "id": "a53546a6",
   "metadata": {},
   "source": [
    "## Códigos para a criação da diversidade de solos\n",
    "\n",
    "As análises foram rodadas no *Google Earth Engine* (Gorelick 2017), devido a demanda computacional do projeto, usando o pacote **geemap** (Wu 2020) em *Python* (Python Software Foundation 2023) como interface pela facilidade na documentação e reprodutividade das análises. "
   ]
  },
  {
   "cell_type": "code",
   "execution_count": 21,
   "id": "d88af154",
   "metadata": {},
   "outputs": [],
   "source": [
    "# Função para mudar o valor da propriedade do polígono para 1\n",
    "def set_feature(feature):\n",
    "               return feature.set(\"cod_simbol\", 1)\n",
    "\n",
    "# Função para filtrar o polígono por tipo de solo, \n",
    "# transformar em raster e retornar um raster de presença\n",
    "# e ausência do solo na vizinhança     \n",
    "def soil_presence(code):\n",
    "    # Filtra  o tipo de solo e atribui valor 1 (para rasterizar)  \n",
    "    type = (soil.filter(ee.Filter.eq(\"cod_simbol\", code))\n",
    "           .map(set_feature))\n",
    "    \n",
    "    # Transforma o polígono em raster\n",
    "    soil_rast = type.reduceToImage(**{\n",
    "                        'properties': [\"cod_simbol\"],\n",
    "                        'reducer': ee.Reducer.first()\n",
    "                      })\n",
    "\n",
    "    # Converte o raster para a escala do modelo digital de elevação\n",
    "    soil_raster = (soil_rast\n",
    "                  .reproject(**{'crs': \"EPSG:4326\",\n",
    "                                  'scale': escala}))\n",
    "\n",
    "    radius_pixels = 15\n",
    "\n",
    "    # Conte o número de células na vizinhança que possuem o tipo de solo selecionado\n",
    "    soil_count = (soil_raster.neighborhoodToBands(ee.Kernel.circle(radius_pixels))\n",
    "                 .reduce(ee.Reducer.count()))\n",
    "\n",
    "    # Tranforme os valore maiores que 0 em 1, indicando a presença\n",
    "    #ou ausência do tipo de solo na vizinhança\n",
    "    soil_diversity = soil_count.where(soil_count.gt(0), 1)\n",
    "\n",
    "    return soil_diversity\n"
   ]
  },
  {
   "cell_type": "code",
   "execution_count": 9,
   "id": "3727dcca",
   "metadata": {},
   "outputs": [],
   "source": [
    "# Importando mapa de biomas do IBGE para extrair as coordenadas mínimas e máximas do Brasil\n",
    "bioma = ee.FeatureCollection(\"projects/ee-lucasljardim9/assets/Biome\")\n",
    "\n",
    "def func_cmp(feature):\n",
    "    return feature.bounds() \n",
    "\n",
    "# Extraindo as coordenadas mínimas e máximas do Brasil\n",
    "bioma_box = bioma.map(func_cmp).geometry().dissolve(**{'maxError': 1}).bounds()\n",
    "\n",
    "# Extraindo a resolução do mapa\n",
    "DEM = ee.Image(\"MERIT/DEM/v1_0_3\") \n",
    "\n",
    "escala = DEM.projection().nominalScale()"
   ]
  },
  {
   "cell_type": "code",
   "execution_count": 11,
   "id": "dea19182",
   "metadata": {},
   "outputs": [],
   "source": [
    "# Importando os polígonos de solo do IBGE e selecionado a coluna com tipos de solo\n",
    "soil = (ee.FeatureCollection(\"projects/ee-lucasljardim9/assets/soil_IBGE\")\n",
    "        .select(\"cod_simbol\"))"
   ]
  },
  {
   "cell_type": "code",
   "execution_count": 14,
   "id": "fbcfaeca",
   "metadata": {},
   "outputs": [],
   "source": [
    "# Criando uma lista com os nomes dos tipos de solo\n",
    "soil_list = soil.reduceColumns(ee.Reducer.toList(), [\"cod_simbol\"]).values().get(0)\n",
    "\n",
    "soil_codes = (ee.List(soil_list).distinct()\n",
    "              .filter(ee.Filter.neq(\"item\", \"\")))"
   ]
  },
  {
   "cell_type": "code",
   "execution_count": 22,
   "id": "e52cb759",
   "metadata": {},
   "outputs": [],
   "source": [
    "# Crie o raster de presença e ausencia para cada tipo de solo\n",
    "soil_list = soil_codes.map(soil_presence)\n",
    "\n",
    "# Transforme os raster de presença de solo em bandas de \n",
    "# uma imagem e soma para calcular a diversidade de solos\n",
    "# Converta do doble para permitir a exportação do dado\n",
    "soil_diversity = (ee.ImageCollection.fromImages(soil_list)\n",
    "                  .toBands()\n",
    "                  .reduce(\"sum\")\n",
    "                  .toDouble())\n"
   ]
  },
  {
   "cell_type": "code",
   "execution_count": 24,
   "id": "674598d1",
   "metadata": {},
   "outputs": [],
   "source": [
    "# Exporte o raster de diversidade de solo \n",
    "assetId = \"projects/ee-lucasljardim9/assets/soil_diversity\"\n",
    "\n",
    "geemap.ee_export_image_to_asset(\n",
    "    soil_diversity, description='soil_diversity', assetId=assetId, region=bioma_box, scale=escala,maxPixels=1e13\n",
    ")"
   ]
  }
 ],
 "metadata": {
  "kernelspec": {
   "display_name": "Python 3 (ipykernel)",
   "language": "python",
   "name": "python3"
  },
  "language_info": {
   "codemirror_mode": {
    "name": "ipython",
    "version": 3
   },
   "file_extension": ".py",
   "mimetype": "text/x-python",
   "name": "python",
   "nbconvert_exporter": "python",
   "pygments_lexer": "ipython3",
   "version": "3.8.10"
  }
 },
 "nbformat": 4,
 "nbformat_minor": 5
}
