{
 "cells": [
  {
   "cell_type": "markdown",
   "id": "e15447ec",
   "metadata": {},
   "source": [
    "# Calculando *Z-scores *das variáveis"
   ]
  },
  {
   "cell_type": "code",
   "execution_count": 1,
   "id": "4ad9775b",
   "metadata": {},
   "outputs": [],
   "source": [
    "import os\n",
    "import ee\n",
    "import geemap"
   ]
  },
  {
   "cell_type": "code",
   "execution_count": 2,
   "id": "cfc32004",
   "metadata": {},
   "outputs": [
    {
     "name": "stderr",
     "output_type": "stream",
     "text": [
      "*** Earth Engine *** Share your feedback by taking our Annual Developer Satisfaction Survey: https://google.qualtrics.com/jfe/form/SV_doiqkQG3NJ1t8IS?source=API\n"
     ]
    }
   ],
   "source": [
    "geemap.ee_initialize()"
   ]
  },
  {
   "cell_type": "markdown",
   "id": "3f4fdbe8",
   "metadata": {},
   "source": [
    "Antes de calcularmos a diversidade da paisagem e a resiliência, nós transformamos as variáveis (variedade de *landforms*, amplitude altitudinal, densidade, quantidade de áreas úmidas e diversidade de solo) em valores de Z. O cálculo de Z é realizado dentro janelas móveis. Um fato importante é a posterior tranformação dos valores de densidade e quantidade de áreas úmidas em *wetland score*.\n",
    "\n",
    "Os valores de Z de cada variável, em cada célula (i), é o desvio do valor da célula da média da janela móvel (u), divido pelo seu desvio padrão:"
   ]
  },
  {
   "cell_type": "markdown",
   "id": "414e7b92",
   "metadata": {},
   "source": [
    "$$Z-score_{iu} = \\frac{i - media_{u}}{desviopadrao_{u}}$$\n"
   ]
  },
  {
   "cell_type": "markdown",
   "id": "ce1e02f9",
   "metadata": {},
   "source": [
    "O *wetland score* é a média ponderada das densidades locais e regionais de áreas úmidas. Em locais onde o valor de Z da densidade média é menor que o Z da quantidade de áreas úmidas, o *wetland score* assume o segundo valor Z.\n"
   ]
  },
  {
   "cell_type": "markdown",
   "id": "e5a5bb45",
   "metadata": {},
   "source": [
    "\n",
    "$$\n",
    "\\tiny\n",
    "wetland.score = \n",
    "  \\begin{cases}  \n",
    "    \\frac{2 \\times densidade_{local}(Z) + densidade_{regional}(Z)}{3} & \\text{se densidade média é maior ou igual à quantidade regional}\\\\\n",
    "    \\frac{2 \\times densidade_{local}(Z) + densidade_{regional}(Z) + quantidade_{regional}(Z)}{4}& \\text {se a quantidade regional for maior a densidade média}\n",
    "  \\end{cases}\n",
    "$$"
   ]
  },
  {
   "cell_type": "markdown",
   "id": "18db11df",
   "metadata": {},
   "source": [
    "## Base de Dados\n",
    "\n",
    "Nós utilizamos as variáveis criadas anteriormente e guardadas como *assets* no *Google Earth Engine*. As variáveis são:\n",
    "\n",
    "**(colocar os links das variáveis aqui)**\n",
    "\n",
    "* variedade de *landforms* \n",
    "* amplitude de elevação\n",
    "* diversidade de solo\n",
    "* unidades eco-geológicas\n",
    "* conectividade da paisagem\n",
    "* densidade local de áreas úmidas\n",
    "* densidade regional de áreas úmidas\n",
    "* quantidade regional de áreas úmidas \n"
   ]
  },
  {
   "cell_type": "markdown",
   "id": "a2cda5af",
   "metadata": {},
   "source": [
    "## Códigos para o cálculo dos *Z-scores*"
   ]
  },
  {
   "cell_type": "markdown",
   "id": "e49a5a30",
   "metadata": {},
   "source": [
    "As análises foram rodadas no Google Earth Engine (Gorelick 2017), devido a demanda computacional do projeto, usando o pacote geemap (Wu 2020) em Python (Python Software Foundation 2023) como interface pela facilidade na documentação e reprodutividade das análises.\n",
    "\n",
    "Primeiro, nós criamos uma função para calcular o *Z-score* dentro de cada janela móvel (**code**) para cada variável (**image**). A função calcula a média e desvio padrão para a vizinhança de cada célula, utilizando uma janela móvel circular. Depois, os valores e média e desvio padrão convertidos para *Z-score* pela subtração variável pela média e divida pelo desvio padrão."
   ]
  },
  {
   "cell_type": "code",
   "execution_count": 4,
   "id": "8d5fb7e8",
   "metadata": {},
   "outputs": [],
   "source": [
    "def calculate_Z_scores(image, windows):\n",
    "\n",
    "  # Calculating the mean\n",
    "  mean = image.reduceNeighborhood(**{\n",
    "    'reducer': ee.Reducer.mean(),\n",
    "    'kernel': ee.Kernel.circle(**{\n",
    "                                'radius':windows,\n",
    "                                'units':'pixels',\n",
    "                                'normalize':False\n",
    "                              }),\n",
    "  })\n",
    "\n",
    "  # Calculating the standard deviation\n",
    "  sd = image.reduceNeighborhood(**{\n",
    "    'reducer': ee.Reducer.stdDev(),\n",
    "    'kernel': ee.Kernel.circle(**{\n",
    "                                'radius':windows,\n",
    "                                'units':'pixels',\n",
    "                                'normalize':False\n",
    "                              }),\n",
    "  })\n",
    "\n",
    "  # Values as a raster\n",
    "  meanValue = mean.rename('mean')\n",
    "  sdValue = sd.rename('sd')\n",
    "\n",
    "  # Calculating the z scores\n",
    "  z = image.subtract(meanValue).divide(sdValue).rename('z')\n",
    "\n",
    "  return z\n",
    "\n"
   ]
  },
  {
   "cell_type": "markdown",
   "id": "e98a73d5",
   "metadata": {},
   "source": [
    "Aqui nós importamos as variáveis de interesse para o cálculo de Z."
   ]
  },
  {
   "cell_type": "code",
   "execution_count": 5,
   "id": "c3f6b629",
   "metadata": {},
   "outputs": [],
   "source": [
    "# Importando as variáveis\n",
    "\n",
    "#Conferir os links\n",
    "\n",
    "landform_variety = ee.Image(\"projects/ee-lucasljardim9/assets/landform_variety\")\n",
    "\n",
    "elevation_range = ee.Image(\"projects/ee-lucasljardim9/assets/elevation_range_residual\")\n",
    "\n",
    "soil_diversity = ee.Image('projects/ee-lucasljardim9/assets/soil_diversity')\n",
    "\n",
    "connectedness = ee.Image(\"projects/ee-lucasljardim9/assets/Biomas_resistencia_kernel\")\n",
    "\n",
    "# Importando os dados de wetlands para o wetland score\n",
    "\n",
    "wetlands_count = ee.Image(\"projects/ee-lucasljardim9/assets/wetlands_count\")\n",
    "\n",
    "wetlands_density = ee.Image(\"projects/ee-lucasljardim9/assets/wetlands_density\")\n",
    "\n",
    "wetlands_density_1000 = ee.Image(\"projects/ee-lucasljardim9/assets/wetlands_density_1000\")\n",
    "\n",
    "# Importando o polígono de bioma para definir as \n",
    "# coordenadas máximas e mínimas do Brasil\n",
    "\n",
    "bioma = ee.FeatureCollection(\"projects/ee-lucasljardim9/assets/Biome\")\n",
    "\n",
    "# ModeloDigital de Elevação para extrair a resolução\n",
    "DEM = ee.Image(\"MERIT/DEM/v1_0_3\")\n",
    "\n",
    "# função para extrair as bordas dos polígonos\n",
    "def func_cmp(feature):\n",
    "    return feature.bounds() \n",
    "\n",
    "# Extraindo as coordenadas mínimas e máximas do Brasil\n",
    "bioma_box = bioma.map(func_cmp).geometry().dissolve(**{'maxError': 1}).bounds()\n",
    "\n",
    "# Resolução das análises\n",
    "escala = DEM.projection().nominalScale()"
   ]
  },
  {
   "cell_type": "markdown",
   "id": "a7a22ce5",
   "metadata": {},
   "source": [
    "## Calculando Z-scores"
   ]
  },
  {
   "cell_type": "markdown",
   "id": "1ae20da7",
   "metadata": {},
   "source": [
    "Nós aplicamos a função **wrap_calculate_Z** para cada variável e guardamos o valores de Z calculados."
   ]
  },
  {
   "cell_type": "code",
   "execution_count": 6,
   "id": "2902506c",
   "metadata": {},
   "outputs": [],
   "source": [
    "# Calculando os valores de Z para cada variável\n",
    "\n",
    "windows = 200\n",
    "\n",
    "Z_landform_variety = calculate_Z_scores(landform_variety, windows)\n",
    "\n",
    "Z_elevation_range = calculate_Z_scores(elevation_range, windows)\n",
    "\n",
    "Z_soil_diversity = calculate_Z_scores(soil_diversity, windows)\n",
    "\n",
    "Z_wetlands_count = calculate_Z_scores(wetlands_count, windows)\n",
    "\n",
    "Z_wetlands_density = calculate_Z_scores(wetlands_density, windows)\n",
    "\n",
    "Z_wetlands_density_1000 = calculate_Z_scores(wetlands_density_1000, windows)\n",
    "\n",
    "Z_connectedness = calculate_Z_scores(connectedness, windows).multiply(-1)\n",
    "# conferir se precisar multiplicar mesmo po -1"
   ]
  },
  {
   "cell_type": "markdown",
   "id": "a41a199a",
   "metadata": {},
   "source": [
    "## Calculando wetland score\n",
    "\n",
    "Aqui, nós calculamos o *wetland score*, aplicando a fórmula descrita anteriormente."
   ]
  },
  {
   "cell_type": "code",
   "execution_count": 7,
   "id": "c476c773",
   "metadata": {},
   "outputs": [],
   "source": [
    "# Calculando a densidade de areas úmidas como a média do local e regional\n",
    "wetlands_density = (Z_wetlands_density\n",
    "                    .multiply(2)\n",
    "                    .add(Z_wetlands_density_1000)\n",
    "                    .divide(3))\n",
    "\n",
    "# Testando se o Z da quantidade de áreas úmidas é maior que a densidade média\n",
    "\n",
    "wet_test = wetlands_density.lt(Z_wetlands_count)\n",
    "\n",
    "# Média de densidade local, regional e quantidade de áreas úmidas\n",
    "wet_average = (wetlands_density\n",
    "              .multiply(3)\n",
    "              .add(Z_wetlands_count)\n",
    "              .divide(4))\n",
    "\n",
    "# Substituindo os locais com densidade menor que a quantidade pelos valores de quantidade             \n",
    "Z_wetlands_score = Z_wetlands_density.where(wet_test, wet_average)"
   ]
  },
  {
   "cell_type": "markdown",
   "id": "d6c6c014",
   "metadata": {},
   "source": [
    "## Exportando os Z-scores\n",
    "\n",
    "Por último, exportamos todas as imagens de Z como *asset* no *Google Earth Engine*."
   ]
  },
  {
   "cell_type": "code",
   "execution_count": 8,
   "id": "59d4f87a",
   "metadata": {},
   "outputs": [],
   "source": [
    "# Criando os links dos assets\n",
    "landform_assetId = \"projects/ee-lucasljardim9/assets/Z_landform_variety\"\n",
    "\n",
    "elevation_assetId = \"projects/ee-lucasljardim9/assets/Z_elevation_range\"\n",
    "\n",
    "wetland_assetId = \"projects/ee-lucasljardim9/assets/Z_wetlands_score\"\n",
    "\n",
    "soil_assetId = \"projects/ee-lucasljardim9/assets/Z_soil_diversity\"\n",
    "\n",
    "connectedness_assetId = \"projects/ee-lucasljardim9/assets/Z_connectedness\"\n",
    "\n",
    "# Exportando as imagens\n",
    "geemap.ee_export_image_to_asset(\n",
    "    Z_landform_variety, \n",
    "    description='Z_landform_variety', \n",
    "    assetId=landform_assetId, \n",
    "    region=bioma_box, \n",
    "    scale=escala, \n",
    "    maxPixels=1e13\n",
    ")\n",
    "\n",
    "geemap.ee_export_image_to_asset(\n",
    "    Z_elevation_range, \n",
    "    description='Z_elevation_range', \n",
    "    assetId=elevation_assetId, \n",
    "    region=bioma_box, \n",
    "    scale=escala, \n",
    "    maxPixels=1e13\n",
    ")\n",
    "\n",
    "geemap.ee_export_image_to_asset(\n",
    "    Z_wetlands_score, \n",
    "    description='Z_wetlands_score', \n",
    "    assetId=wetland_assetId, \n",
    "    region=bioma_box, \n",
    "    scale=escala, \n",
    "    maxPixels=1e13\n",
    ")\n",
    "\n",
    "geemap.ee_export_image_to_asset(\n",
    "    Z_soil_diversity, \n",
    "    description='Z_soil_diversity', \n",
    "    assetId=soil_assetId, \n",
    "    region=bioma_box, \n",
    "    scale=escala, \n",
    "    maxPixels=1e13\n",
    ")\n",
    "\n",
    "geemap.ee_export_image_to_asset(\n",
    "    Z_connectedness, \n",
    "    description='Z_connectedness', \n",
    "    assetId=connectedness_assetId, \n",
    "    region=bioma_box, \n",
    "    scale=escala, \n",
    "    maxPixels=1e13\n",
    ")"
   ]
  }
 ],
 "metadata": {
  "kernelspec": {
   "display_name": "Python 3 (ipykernel)",
   "language": "python",
   "name": "python3"
  },
  "language_info": {
   "codemirror_mode": {
    "name": "ipython",
    "version": 3
   },
   "file_extension": ".py",
   "mimetype": "text/x-python",
   "name": "python",
   "nbconvert_exporter": "python",
   "pygments_lexer": "ipython3",
   "version": "3.8.10"
  }
 },
 "nbformat": 4,
 "nbformat_minor": 5
}
