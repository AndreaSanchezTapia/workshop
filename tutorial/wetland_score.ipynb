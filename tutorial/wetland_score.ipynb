{
 "cells": [
  {
   "cell_type": "markdown",
   "id": "c56ef7fb",
   "metadata": {},
   "source": [
    "# Densidade e quantidade de áreas úmidas"
   ]
  },
  {
   "cell_type": "markdown",
   "id": "7589cedf",
   "metadata": {},
   "source": [
    "## Importando pacotes e inicializando *geemap*"
   ]
  },
  {
   "cell_type": "code",
   "execution_count": 31,
   "id": "b3702769",
   "metadata": {},
   "outputs": [],
   "source": [
    "import os\n",
    "import ee\n",
    "import geemap"
   ]
  },
  {
   "cell_type": "code",
   "execution_count": 32,
   "id": "eae9f880",
   "metadata": {},
   "outputs": [],
   "source": [
    "geemap.ee_initialize()"
   ]
  },
  {
   "cell_type": "markdown",
   "id": "fa9a5a53",
   "metadata": {},
   "source": [
    "O índice *Wetland score* é uma combinação da densidade de áreas úmidas localmente com a densidade e quantidade de áreas úmidas regionalmente. Wetland score entra no cálculo da diversidade da paisagem em locais planos e úmidos, com baixa variedade de *landforms* e baixa amplitude de elevação. Nesses locais a variação microclimática seria baixa devido a baixa variabilidade topográfica e geomorfológica, mas como há alta densidade de áreas úmidas, esses locais atuam regulando a variabilidade microclimática localmente, atuam como tampões climáticos e regulando a emissão de gases de efeito estufa.\n",
    "\n",
    "Existem três cenários de distribuição de áreas úmidas, os locais (1) estão presentes em áreas com alta densidade de áreas úmidas no entorno, (2) os locais estão situados em áreas com baixa densidade de áreas úmidas localmente, mas alta densidade regionalmente e (3) os locais estão presentes em áreas com alta quantidade de áreas úmidas, mas baixa densidade devido a sua distribuição espacial. Desta forma, *wetland score* é composto pelos três cenários citados anteriormente, primeiro é calculado a densidade local, regional e a quantidade regional e, para cada métrica, é calculado um valor de Z, subtraindo pela média e dividindo pelo desvio padrão. A densidade de áreas úmidas é a média ponderada dos valores de Z da densidade local e regional (peso duplo para a densidade local). Nos locais onde os valores de Z da quantidade de áreas úmidas regional é maior que a densidade média calculada anteriormente, o índice torna-se a média ponderada da densidade local, densidade regional e quantidade de áreas úmidas regional (duplo peso para a densidade local). \n",
    "\n",
    "$wetland.score = \n",
    "  \\begin{cases}\n",
    "    \\frac{2 \\times densidade_{local}(Z) + densidade_{regional}(Z)}{3}      & \\quad \\text{se densidade média é maior ou igual à quantidade regional}\\\\\n",
    "    \\frac{2 \\times densidade_{local}(Z) + densidade_{regional}(Z) + quantidade_{regional}(Z)}{4}    & \\quad \\text{se a quantidade regional for maior a densidade média}\n",
    "  \\end{cases}\n",
    "$\n"
   ]
  },
  {
   "cell_type": "markdown",
   "id": "dad34261",
   "metadata": {},
   "source": [
    "Nesse capítulo demonstraremos como as densidades e a quantidade de áreas úmidas foram calculadas e em outro capítulo mostraremos como calculamos os valores de Z e o *wetland score*. "
   ]
  },
  {
   "cell_type": "markdown",
   "id": "18062607",
   "metadata": {},
   "source": [
    "## Banco de Dados\n",
    "\n"
   ]
  },
  {
   "cell_type": "markdown",
   "id": "6ef12879",
   "metadata": {},
   "source": [
    "## Código para calcular as densidades e quantidade de áreas úmidas"
   ]
  },
  {
   "cell_type": "code",
   "execution_count": 33,
   "id": "780c6cfa",
   "metadata": {},
   "outputs": [],
   "source": [
    "# Importando mapa de biomas do IBGE para extrair as coordenadas mínimas e máximas do Brasil\n",
    "bioma = ee.FeatureCollection(\"projects/ee-lucasljardim9/assets/Biome\")\n",
    "\n",
    "def func_cmp(feature):\n",
    "    return feature.bounds() \n",
    "\n",
    "# Extraindo as coordenadas mínimas e máximas do Brasil\n",
    "bioma_box = bioma.map(func_cmp).geometry().dissolve(**{'maxError': 1}).bounds()\n",
    "\n",
    "# Extraindo a resolução do mapa\n",
    "DEM = ee.Image(\"MERIT/DEM/v1_0_3\") \n",
    "\n",
    "escala = DEM.projection().nominalScale()"
   ]
  },
  {
   "cell_type": "code",
   "execution_count": 34,
   "id": "5b90af45",
   "metadata": {},
   "outputs": [],
   "source": [
    "wetlands = (ee.Image(\"projects/ee-lucasljardim9/assets/Cifor_wetlands\") \n",
    "            .reproject(**{'crs': \"EPSG:4326\",\n",
    "                       'scale': escala}))"
   ]
  },
  {
   "cell_type": "code",
   "execution_count": 35,
   "id": "7d1014b8",
   "metadata": {},
   "outputs": [],
   "source": [
    "rivers = wetlands.mask(wetlands.neq(10))\n",
    "\n",
    "# Filtering riverine and lacustrine out\n",
    "\n",
    "wetlands = wetlands.mask(rivers)\n",
    "\n",
    "# Transform wetland raster into a binary raster of wetland presence #\n",
    "\n",
    "wetlands_binary = wetlands.where(wetlands.gt(0), 1)"
   ]
  },
  {
   "cell_type": "code",
   "execution_count": 41,
   "id": "2b93c84f",
   "metadata": {},
   "outputs": [],
   "source": [
    "radius_pixels = 5\n",
    "\n",
    "neighbors = wetlands_binary.neighborhoodToBands(ee.Kernel.circle(ee.Number(radius_pixels)))\n",
    "\n",
    "wetlands_count = neighbors.reduce(ee.Reducer.sum()).toDouble()\n",
    "\n",
    "# Calculate the number of cells within neighborhood #\n",
    "\n",
    "neighbors_amount = neighbors.bandNames().length()\n",
    "\n",
    "# Calculate wetland density #\n",
    "# Number of wetlands divided by the number of cells #\n",
    "\n",
    "wetlands_density_local = wetlands_count.divide(ee.Number(neighbors_amount))"
   ]
  },
  {
   "cell_type": "code",
   "execution_count": 42,
   "id": "232f4254",
   "metadata": {},
   "outputs": [],
   "source": [
    "radius_pixels = 13\n",
    "\n",
    "neighbors = wetlands_binary.neighborhoodToBands(ee.Kernel.circle(ee.Number(radius_pixels)))\n",
    "\n",
    "wetlands_count = neighbors.reduce(ee.Reducer.sum()).toDouble()\n",
    "\n",
    "neighbors_amount = neighbors.bandNames().length()\n",
    "\n",
    "wetlands_density_regional = wetlands_count.divide(ee.Number(neighbors_amount))"
   ]
  },
  {
   "cell_type": "code",
   "execution_count": 44,
   "id": "ef4a85aa",
   "metadata": {},
   "outputs": [],
   "source": [
    "assetId_quantidade = \"projects/ee-lucasljardim9/assets/wetlands_count\"\n",
    "\n",
    "assetId_densidade_local = \"projects/ee-lucasljardim9/assets/wetlands_density\"\n",
    "\n",
    "assetId_densidade_regional = \"projects/ee-lucasljardim9/assets/wetlands_density_1000\"\n",
    "\n",
    "geemap.ee_export_image_to_asset(\n",
    "    wetlands_count, \n",
    "    description='wetlands_count', \n",
    "    assetId=assetId_quantidade, \n",
    "    region=bioma_box, \n",
    "    scale=escala, maxPixels=1e13\n",
    ")\n",
    "\n",
    "geemap.ee_export_image_to_asset(\n",
    "    wetlands_density_local, \n",
    "    description='wetlands_density_local', \n",
    "    assetId=assetId_densidade_local, \n",
    "    region=bioma_box, \n",
    "    scale=escala, maxPixels=1e13\n",
    ")\n",
    "\n",
    "geemap.ee_export_image_to_asset(\n",
    "    wetlands_density_regional, \n",
    "    description='wetlands_density_regional', \n",
    "    assetId=assetId_densidade_regional, \n",
    "    region=bioma_box, \n",
    "    scale=escala, maxPixels=1e13\n",
    ")"
   ]
  }
 ],
 "metadata": {
  "kernelspec": {
   "display_name": "Python 3 (ipykernel)",
   "language": "python",
   "name": "python3"
  },
  "language_info": {
   "codemirror_mode": {
    "name": "ipython",
    "version": 3
   },
   "file_extension": ".py",
   "mimetype": "text/x-python",
   "name": "python",
   "nbconvert_exporter": "python",
   "pygments_lexer": "ipython3",
   "version": "3.8.10"
  }
 },
 "nbformat": 4,
 "nbformat_minor": 5
}
