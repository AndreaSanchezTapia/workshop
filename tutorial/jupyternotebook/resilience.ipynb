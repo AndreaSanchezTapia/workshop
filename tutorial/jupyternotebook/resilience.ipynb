{
 "cells": [
  {
   "cell_type": "markdown",
   "id": "f2f0dd5a",
   "metadata": {},
   "source": [
    "# Resiliência da Paisagem"
   ]
  },
  {
   "cell_type": "markdown",
   "id": "e50e7772",
   "metadata": {},
   "source": [
    "## Importando pacotes e inicializando *geemap*"
   ]
  },
  {
   "cell_type": "code",
   "execution_count": 1,
   "id": "9141ed1d",
   "metadata": {},
   "outputs": [],
   "source": [
    "import os\n",
    "import ee\n",
    "import geemap"
   ]
  },
  {
   "cell_type": "code",
   "execution_count": 2,
   "id": "97bde6c9",
   "metadata": {},
   "outputs": [],
   "source": [
    "geemap.ee_initialize()"
   ]
  },
  {
   "cell_type": "code",
   "execution_count": null,
   "id": "7dd0cbe5",
   "metadata": {},
   "outputs": [],
   "source": [
    "A resiliência da paisagem é a média da diversidade e connectividade da paisagem."
   ]
  },
  {
   "cell_type": "markdown",
   "id": "10dbed7e",
   "metadata": {},
   "source": [
    "## Base de Dados\n",
    "\n",
    "Os dados para a resiliência da paisagem são o mapa de diversidade da paisagem e *Z-score* da connectividade criados anteriormente."
   ]
  },
  {
   "cell_type": "markdown",
   "id": "15af3a53",
   "metadata": {},
   "source": [
    "## Códigos para a criação da resiliência da paisagem\n",
    "\n",
    "As análises foram rodadas no *Google Earth Engine* (Gorelick 2017), devido a demanda computacional do projeto, usando o pacote **geemap** (Wu 2020) em *Python* (Python Software Foundation 2023) como interface pela facilidade na documentação e reprodutividade das análises. "
   ]
  },
  {
   "cell_type": "markdown",
   "id": "b517c1a8",
   "metadata": {},
   "source": [
    "Primeiro, importamos o polígono de biomas do Brasil para extraímos as coordenadas geográficas mínimas e máximas. Extraímos também a escala do modelo digital de elevação que estamos usando na análises prévias."
   ]
  },
  {
   "cell_type": "code",
   "execution_count": 4,
   "id": "68d43e74",
   "metadata": {},
   "outputs": [],
   "source": [
    "# Importando o polígono de bioma para definir as \n",
    "# coordenadas máximas e mínimas do Brasil\n",
    "\n",
    "bioma = ee.FeatureCollection(\"projects/ee-lucasljardim9/assets/Biome\")\n",
    "\n",
    "# ModeloDigital de Elevação para extrair a resolução\n",
    "DEM = ee.Image(\"MERIT/DEM/v1_0_3\")\n",
    "\n",
    "# função para extrair as bordas dos polígonos\n",
    "def func_cmp(feature):\n",
    "    return feature.bounds() \n",
    "\n",
    "# Extraindo as coordenadas mínimas e máximas do Brasil\n",
    "bioma_box = bioma.map(func_cmp).geometry().dissolve(**{'maxError': 1}).bounds()\n",
    "\n",
    "# Resolução das análises\n",
    "escala = DEM.projection().nominalScale()"
   ]
  },
  {
   "cell_type": "markdown",
   "id": "599354c5",
   "metadata": {},
   "source": [
    "Importamos os mapas de diversidade da paisagem e *Z-score* da connectividade e calculamos a média entre eles."
   ]
  },
  {
   "cell_type": "code",
   "execution_count": 7,
   "id": "c9bc7994",
   "metadata": {},
   "outputs": [],
   "source": [
    "Z_connectedness = ee.Image(\"projects/ee-lucasljardim9/assets/Z_connectedness_byregion\")\n",
    "\n",
    "Z_landscape_diversity = ee.Image(\"projects/ee-lucasljardim9/assets/landscape_diversity_byregion\")\n",
    "\n",
    "resilience = Z_connectedness.add(Z_landscape_diversity).divide(2)"
   ]
  },
  {
   "cell_type": "markdown",
   "id": "0a7c17e9",
   "metadata": {},
   "source": [
    "Exportamos o mapa de resiliência como um *asset* no *Google Earth Engine*."
   ]
  },
  {
   "cell_type": "code",
   "execution_count": 6,
   "id": "8ba88bba",
   "metadata": {},
   "outputs": [],
   "source": [
    "# Exporte o raster de diversidade da paisagem\n",
    "assetId = \"projects/ee-lucasljardim9/assets/resilience_byregion\"\n",
    "\n",
    "geemap.ee_export_image_to_asset(\n",
    "    resilience, \n",
    "    description='resilience_byregion', \n",
    "    assetId=assetId, \n",
    "    region=bioma_box, \n",
    "    scale=escala,\n",
    "    maxPixels=1e13\n",
    ")"
   ]
  }
 ],
 "metadata": {
  "kernelspec": {
   "display_name": "Python 3 (ipykernel)",
   "language": "python",
   "name": "python3"
  },
  "language_info": {
   "codemirror_mode": {
    "name": "ipython",
    "version": 3
   },
   "file_extension": ".py",
   "mimetype": "text/x-python",
   "name": "python",
   "nbconvert_exporter": "python",
   "pygments_lexer": "ipython3",
   "version": "3.8.10"
  }
 },
 "nbformat": 4,
 "nbformat_minor": 5
}
