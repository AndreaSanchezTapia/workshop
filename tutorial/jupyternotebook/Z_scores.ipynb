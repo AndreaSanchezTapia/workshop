{
 "cells": [
  {
   "cell_type": "markdown",
   "id": "e15447ec",
   "metadata": {},
   "source": [
    "# Calculando *Z-scores *das variáveis"
   ]
  },
  {
   "cell_type": "code",
   "execution_count": 1,
   "id": "4ad9775b",
   "metadata": {},
   "outputs": [],
   "source": [
    "import os\n",
    "import ee\n",
    "import geemap"
   ]
  },
  {
   "cell_type": "code",
   "execution_count": 2,
   "id": "cfc32004",
   "metadata": {},
   "outputs": [],
   "source": [
    "geemap.ee_initialize()"
   ]
  },
  {
   "cell_type": "markdown",
   "id": "3f4fdbe8",
   "metadata": {},
   "source": [
    "Antes de calcularmos a diversidade da paisagem e a resiliência, nós transformamos as variáveis, variedade de *landforms*, amplitude de elevação, densidade e quantidade de áreas úmidas e diversidade de solo, em valores de Z. O cálculo de Z é realizado dentro de regiões similares ecologicamente e geologicamente (unidade eco-geológicas), criadas anteriormente. Além disso, os valores de densidade e quantidade de áreas úmidas são combinados em *wetland score*.\n",
    "\n",
    "Os valores de Z de cada variável, em cada célula (i), é o desvio do valor da célula da média da unidade eco-geológica (u), divido pelo seu desvio padrão:"
   ]
  },
  {
   "cell_type": "markdown",
   "id": "414e7b92",
   "metadata": {},
   "source": [
    "$$Z-score_{iu} = \\frac{i - media_{u}}{desviopadrao_{u}}$$\n"
   ]
  },
  {
   "cell_type": "markdown",
   "id": "ce1e02f9",
   "metadata": {},
   "source": [
    "O *wetland score* é a média ponderada das densidades locais e regionais de áreas úmidas. Em locais onde o valor de Z da densidade média é menor que o Z da quantidade de áreas úmidas, o *wetland score* assume o segundo valor Z.\n"
   ]
  },
  {
   "cell_type": "markdown",
   "id": "e5a5bb45",
   "metadata": {},
   "source": [
    "\n",
    "$$\n",
    "\\tiny\n",
    "wetland.score = \n",
    "  \\begin{cases}  \n",
    "    \\frac{2 \\times densidade_{local}(Z) + densidade_{regional}(Z)}{3} & \\text{se densidade média é maior ou igual à quantidade regional}\\\\\n",
    "    \\frac{2 \\times densidade_{local}(Z) + densidade_{regional}(Z) + quantidade_{regional}(Z)}{4}& \\text {se a quantidade regional for maior a densidade média}\n",
    "  \\end{cases}\n",
    "$$"
   ]
  },
  {
   "cell_type": "markdown",
   "id": "18db11df",
   "metadata": {},
   "source": [
    "## Base de Dados\n",
    "\n",
    "Nós utilizamos as variáveis criadas anteriormente e guardadas como *assets* no *Google Earth Engine*. As variáveis são:\n",
    "\n",
    "* variedade de *landforms*\n",
    "* amplitude de elevação\n",
    "* diversidade de solo\n",
    "* unidades eco-geológicas\n",
    "* conectividade da paisagem\n",
    "* densidade local de áreas úmidas\n",
    "* densidade regional de áreas úmidas\n",
    "* quantidade regional de áreas úmidas \n"
   ]
  },
  {
   "cell_type": "markdown",
   "id": "a2cda5af",
   "metadata": {},
   "source": [
    "## Códigos para o cálculo dos *Z-scores*"
   ]
  },
  {
   "cell_type": "markdown",
   "id": "e49a5a30",
   "metadata": {},
   "source": [
    "As análises foram rodadas no Google Earth Engine (Gorelick 2017), devido a demanda computacional do projeto, usando o pacote geemap (Wu 2020) em Python (Python Software Foundation 2023) como interface pela facilidade na documentação e reprodutividade das análises.\n",
    "\n",
    "Primeiro, nós criamos uma função para calcular o *Z-score* dentro de cada unidade eco-geológica (**code**) para cada variável (**image**). A função cria uma máscara da variável pelo código da unidade eco-geológica e calcula as médias e desvio padrão de cada unidade, depois as variáveis originais são subtraídas da média de sua unidade e divida pelo desvio padrão."
   ]
  },
  {
   "cell_type": "code",
   "execution_count": 3,
   "id": "d0328521",
   "metadata": {},
   "outputs": [],
   "source": [
    "def calculate_Z(code, image):\n",
    "  #Crie uma máscara de unidade eco-geologica para cada codigo da unidade (code)\n",
    "  mask = (geophysical_setting\n",
    "          .where(geophysical_setting.eq(ee.Number.parse(code)), 1)\n",
    "          .where(geophysical_setting.neq(ee.Number.parse(code)), 0))\n",
    "\n",
    "  # Corte a imagem pela máscara  \n",
    "  map1 = image.mask(mask).rename(\"b1\")\n",
    "  # Calcule a média de cada unidade\n",
    "  mean = (map1.reduceRegion(**{'reducer':ee.Reducer.mean(),\n",
    "                              'geometry':bioma_box,\n",
    "                              'scale':escala,\n",
    "                              'maxPixels':1e13\n",
    "                            })\n",
    "             .get(\"b1\"))\n",
    "  # Calcule o desvio padrão de cada unidade\n",
    "  sd = (map1.reduceRegion(**{'reducer':ee.Reducer.stdDev(),\n",
    "                             'geometry':bioma_box,\n",
    "                             'scale':escala,\n",
    "                             'maxPixels':1e13\n",
    "                          })\n",
    "           .get(\"b1\"))\n",
    "    \n",
    "  # calcule o Z\n",
    "  Z = map1.subtract(ee.Number(mean)).divide(ee.Number(sd))\n",
    "\n",
    "  return Z\n"
   ]
  },
  {
   "cell_type": "markdown",
   "id": "466f236a",
   "metadata": {},
   "source": [
    "Em seguida, criamos também um função para aplicar o **calculate_Z** para uma imagem definida pelo usuário transforme em uma image de banda única. "
   ]
  },
  {
   "cell_type": "code",
   "execution_count": 4,
   "id": "366759bd",
   "metadata": {},
   "outputs": [],
   "source": [
    "def wrap_calculate_Z(image):   \n",
    "    # Aplique calculate_Z para cada unidade (classe), guarde numa ImageCollection,\n",
    "    # transform em bandas e resuma numa imagem de banda única\n",
    "    Z_map = (ee.ImageCollection(classes.map(lambda i: calculate_Z(i, image)))\n",
    "             .toBands()\n",
    "             .reduce(\"sum\"))\n",
    "    \n",
    "    return Z_map\n"
   ]
  },
  {
   "cell_type": "markdown",
   "id": "e98a73d5",
   "metadata": {},
   "source": [
    "Aqui nós importamos as variáveis de interesse para o cálculo de Z."
   ]
  },
  {
   "cell_type": "code",
   "execution_count": 5,
   "id": "c3f6b629",
   "metadata": {},
   "outputs": [],
   "source": [
    "# Importando raster das unidades eco-geologicas\n",
    "\n",
    "geophysical_setting = (ee.Image(\"projects/ee-lucasljardim9/assets/ecoregions_geology\")\n",
    "                       .unmask())\n",
    "\n",
    "# Importando as variáveis\n",
    "\n",
    "landform_variety = ee.Image(\"projects/ee-lucasljardim9/assets/landform_variety\")\n",
    "\n",
    "elevation_range = ee.Image(\"projects/ee-lucasljardim9/assets/elevation_range_residual\")\n",
    "\n",
    "soil_diversity = ee.Image('projects/ee-resilience/assets/New_window_size/soil_diversity')\n",
    "\n",
    "connectedness = ee.Image(\"projects/ee-lucasljardim9/assets/Biomas_resistencia_kernel\")\n",
    "\n",
    "# Importando os dados de wetlands para o wetland score\n",
    "\n",
    "wetlands_count = ee.Image(\"projects/ee-lucasljardim9/assets/wetlands_count\")\n",
    "\n",
    "wetlands_density = ee.Image(\"projects/ee-lucasljardim9/assets/wetlands_density\")\n",
    "\n",
    "wetlands_density_1000 = ee.Image(\"projects/ee-lucasljardim9/assets/wetlands_density_1000\")\n",
    "\n",
    "# Importando o polígono de bioma para definir as \n",
    "# coordenadas máximas e mínimas do Brasil\n",
    "\n",
    "bioma = ee.FeatureCollection(\"projects/ee-lucasljardim9/assets/Biome\")\n",
    "\n",
    "# ModeloDigital de Elevação para extrair a resolução\n",
    "DEM = ee.Image(\"MERIT/DEM/v1_0_3\")\n",
    "\n",
    "# função para extrair as bordas dos polígonos\n",
    "def func_cmp(feature):\n",
    "    return feature.bounds() \n",
    "\n",
    "# Extraindo as coordenadas mínimas e máximas do Brasil\n",
    "bioma_box = bioma.map(func_cmp).geometry().dissolve(**{'maxError': 1}).bounds()\n",
    "\n",
    "# Resolução das análises\n",
    "escala = DEM.projection().nominalScale()"
   ]
  },
  {
   "cell_type": "markdown",
   "id": "cb0df4b7",
   "metadata": {},
   "source": [
    "Nós criamos uma lista com os nomes das unidades eco-geológicas (classes)."
   ]
  },
  {
   "cell_type": "code",
   "execution_count": 6,
   "id": "20497555",
   "metadata": {},
   "outputs": [],
   "source": [
    "# extraindo os valores do raster de unidades eco-geológicas em histograma\n",
    "histogram = geophysical_setting.reduceRegion(**{'reducer':ee.Reducer.frequencyHistogram(), \n",
    "                                                'geometry': bioma_box, \n",
    "                                                'scale': escala, \n",
    "                                                'maxPixels':1e13\n",
    "                                             })\n",
    "# Criando uma lista com os nomes das unidades eco-geológicas                                 \n",
    "classes = ee.Dictionary(histogram.get(\"b1\")).keys()"
   ]
  },
  {
   "cell_type": "markdown",
   "id": "a7a22ce5",
   "metadata": {},
   "source": [
    "## Calculando Z-scores"
   ]
  },
  {
   "cell_type": "code",
   "execution_count": null,
   "id": "3db25dce",
   "metadata": {},
   "outputs": [],
   "source": [
    "Nós aplicamos a função **wrap_calculate_Z** para cada variável e guardamos o valores de Z calculados."
   ]
  },
  {
   "cell_type": "code",
   "execution_count": 7,
   "id": "2902506c",
   "metadata": {},
   "outputs": [],
   "source": [
    "# Calculando os valores de Z para cada variável\n",
    "Z_landform_variety = wrap_calculate_Z(landform_variety)\n",
    "\n",
    "Z_elevation_range = wrap_calculate_Z(elevation_range)\n",
    "\n",
    "Z_soil_diversity = wrap_calculate_Z(soil_diversity)\n",
    "\n",
    "Z_wetlands_count = wrap_calculate_Z(wetlands_count)\n",
    "\n",
    "Z_wetlands_density = wrap_calculate_Z(wetlands_density)\n",
    "\n",
    "Z_wetlands_density_1000 = wrap_calculate_Z(wetlands_density_1000)\n",
    "\n",
    "Z_connectedness = wrap_calculate_Z(connectedness)"
   ]
  },
  {
   "cell_type": "markdown",
   "id": "a41a199a",
   "metadata": {},
   "source": [
    "## Calculando wetland score\n",
    "\n",
    "Aqui, nós calculamos o *wetland score*, aplicando a fórmula descrita anteriormente."
   ]
  },
  {
   "cell_type": "code",
   "execution_count": 9,
   "id": "c476c773",
   "metadata": {},
   "outputs": [],
   "source": [
    "# Calculando a densidade de areas úmidas como a média do local e regional\n",
    "wetlands_density = (Z_wetlands_density\n",
    "                    .multiply(2)\n",
    "                    .add(Z_wetlands_density_1000)\n",
    "                    .divide(3))\n",
    "\n",
    "# Testando se o Z da quantidade de áreas úmidas é maior que a densidade média\n",
    "\n",
    "wet_test = wetlands_density.lt(Z_wetlands_count)\n",
    "\n",
    "# Média de densidade local, regional e quantidade de áreas úmidas\n",
    "wet_average = (wetlands_density\n",
    "              .multiply(3)\n",
    "              .add(Z_wetlands_count)\n",
    "              .divide(4))\n",
    "\n",
    "# Substituindo os locais com densidade menor que a quantidade pelos valores de quantidade             \n",
    "Z_wetlands_score = Z_wetlands_density.where(wet_test, wet_average)"
   ]
  },
  {
   "cell_type": "markdown",
   "id": "d6c6c014",
   "metadata": {},
   "source": [
    "## Exportando os Z-scores\n",
    "\n",
    "Por último, exportamos todas as imagens de Z como *asset* no *Google Earth Engine*."
   ]
  },
  {
   "cell_type": "code",
   "execution_count": 10,
   "id": "59d4f87a",
   "metadata": {},
   "outputs": [],
   "source": [
    "# Criando os links dos assets\n",
    "landform_assetId = \"projects/ee-lucasljardim9/assets/Z_landform_variety_byregion\"\n",
    "\n",
    "elevation_assetId = \"projects/ee-lucasljardim9/assets/Z_elevation_range_region\"\n",
    "\n",
    "wetland_assetId = \"projects/ee-lucasljardim9/assets/Z_wetlands_score_byregion\"\n",
    "\n",
    "soil_assetId = \"projects/ee-lucasljardim9/assets/Z_soil_diversity_byregion\"\n",
    "\n",
    "connectedness_assetId = \"projects/ee-lucasljardim9/assets/Z_connectedness_byregion\"\n",
    "\n",
    "# Exportando as imagens\n",
    "geemap.ee_export_image_to_asset(\n",
    "    Z_landform_variety, \n",
    "    description='Z_landform_variety', \n",
    "    assetId=landform_assetId, \n",
    "    region=bioma_box, \n",
    "    scale=escala, \n",
    "    maxPixels=1e13\n",
    ")\n",
    "\n",
    "geemap.ee_export_image_to_asset(\n",
    "    Z_elevation_range, \n",
    "    description='Z_elevation_range', \n",
    "    assetId=elevation_assetId, \n",
    "    region=bioma_box, \n",
    "    scale=escala, \n",
    "    maxPixels=1e13\n",
    ")\n",
    "\n",
    "geemap.ee_export_image_to_asset(\n",
    "    Z_wetlands_score, \n",
    "    description='Z_wetlands_score', \n",
    "    assetId=wetland_assetId, \n",
    "    region=bioma_box, \n",
    "    scale=escala, \n",
    "    maxPixels=1e13\n",
    ")\n",
    "\n",
    "geemap.ee_export_image_to_asset(\n",
    "    Z_soil_diversity, \n",
    "    description='Z_soil_diversity', \n",
    "    assetId=soil_assetId, \n",
    "    region=bioma_box, \n",
    "    scale=escala, \n",
    "    maxPixels=1e13\n",
    ")\n",
    "\n",
    "geemap.ee_export_image_to_asset(\n",
    "    Z_connectedness, \n",
    "    description='Z_connectedness', \n",
    "    assetId=connectedness_assetId, \n",
    "    region=bioma_box, \n",
    "    scale=escala, \n",
    "    maxPixels=1e13\n",
    ")"
   ]
  }
 ],
 "metadata": {
  "kernelspec": {
   "display_name": "Python 3 (ipykernel)",
   "language": "python",
   "name": "python3"
  },
  "language_info": {
   "codemirror_mode": {
    "name": "ipython",
    "version": 3
   },
   "file_extension": ".py",
   "mimetype": "text/x-python",
   "name": "python",
   "nbconvert_exporter": "python",
   "pygments_lexer": "ipython3",
   "version": "3.8.10"
  }
 },
 "nbformat": 4,
 "nbformat_minor": 5
}
