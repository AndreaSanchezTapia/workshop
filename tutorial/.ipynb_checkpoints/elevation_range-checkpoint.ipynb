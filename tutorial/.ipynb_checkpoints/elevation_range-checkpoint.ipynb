{
 "cells": [
  {
   "cell_type": "markdown",
   "id": "e2d0fefb",
   "metadata": {},
   "source": [
    "# Amplitude de Elevação"
   ]
  },
  {
   "cell_type": "markdown",
   "id": "12166fa6",
   "metadata": {},
   "source": [
    "## Importando pacotes e inicializando geemap"
   ]
  },
  {
   "cell_type": "code",
   "execution_count": 34,
   "id": "1f647c4b",
   "metadata": {},
   "outputs": [],
   "source": [
    "import os\n",
    "import ee\n",
    "import geemap"
   ]
  },
  {
   "cell_type": "code",
   "execution_count": 35,
   "id": "993db817",
   "metadata": {},
   "outputs": [],
   "source": [
    "geemap.ee_initialize()"
   ]
  },
  {
   "cell_type": "markdown",
   "id": "83e8a4d6",
   "metadata": {},
   "source": [
    "A amplitude de elevação foi calculada como a diferença entre a elevação máxima e mínima dentro da vizinhaça da célula focal. \n",
    "Como essa métrica é correlacionada com a variedade de *landforms*, nós calculamos o resíduos de uma \n",
    "regressão (Ordinary Least Squares) entre as duas váriaveis. Assim, a amplitude de elevação residual é independente da variedade de *landforms*, permitindo a identificação de locais que tenham maior variabilidade microclimática que a proporcionada pela variedade de *landforms*, quando compormos o índice de diversidade da paisagem."
   ]
  },
  {
   "cell_type": "markdown",
   "id": "5947d752",
   "metadata": {},
   "source": [
    "## Base de Dados\n",
    "\n",
    "Nós utilizamos o Modelo Digital de Elevação (DEM) do Merit-DEM (Yamazaki et al. 2017), na escala de 90 metros. O Merit-DEM é um produto global que combina dados dos satélites do Shuttle Radar Topography Mission (SRTM) (Farr et al. 2007) e Advanced Land Observing Satellite (ALOS) (Tadono et al. 2014), permitindo a replicabilidade da metodologia em outras regiões. Além disso, o Merit-DEM corrige viéses de Modelo Digitais de Elevação gerados por imagens de satétite como *speckle noise*, *stripe noise*, *absolute bias* e *tree height bias* (Yamazaki et al. 2017). A correção de *tree height bias* é principalmente importante para a Floresta Amazônica devido à sua densidade de árvores altas. \n",
    "\n",
    "Nós calculamos o resíduo da amplitude de elevação pela variedade de *landforms*, que foi calculada anteriormente (veja o capítulo Variedade de *Landforms*). "
   ]
  },
  {
   "cell_type": "markdown",
   "id": "793344cf",
   "metadata": {},
   "source": [
    "## Códigos para o cálculo da amplitude de elevação residual\n",
    "\n",
    "Nossas análises foram rodadas no Google Earth Engine (Gorelick 2017), devido a demanda computacional do projeto, usando o pacote geemap (Wu 2020) em Python (Python Software Foundation 2023) como interface pela facilidade na documentação e reprodutividade das análises. "
   ]
  },
  {
   "cell_type": "code",
   "execution_count": 43,
   "id": "8e2cbb3b",
   "metadata": {},
   "outputs": [],
   "source": [
    "# Importando mapa de biomas do IBGE para extrair as coordenadas mínimas e máximas do Brasil\n",
    "bioma = ee.FeatureCollection(\"projects/ee-lucasljardim9/assets/Biome\")\n",
    "\n",
    "def func_cmp(feature):\n",
    "    return feature.bounds() \n",
    "\n",
    "# Extraindo as coordenadas mínimas e máximas do Brasil\n",
    "bioma_box = bioma.map(func_cmp).geometry().dissolve(**{'maxError': 1}).bounds()"
   ]
  },
  {
   "cell_type": "code",
   "execution_count": 44,
   "id": "7a76c091",
   "metadata": {},
   "outputs": [],
   "source": [
    "# Importando o modelo digital de elevação\n",
    "DEM = ee.Image(\"MERIT/DEM/v1_0_3\")\n",
    "\n",
    "# Importando a variedade de landforms calculada anteriormente\n",
    "landform_variety = ee.Image(\"projects/ee-lucasljardim9/assets/landform_variety\")\n",
    "\n",
    "#Escala dos rasters ~92 metros\n",
    "escala = dataset.projection().nominalScale()"
   ]
  },
  {
   "cell_type": "code",
   "execution_count": 45,
   "id": "a98f51a5",
   "metadata": {},
   "outputs": [],
   "source": [
    "# Tamanho do raio do kernel para o calculo da amplitude de elevação\n",
    "radius_pixels = 5\n",
    "\n",
    "# Criando rasters da vizinhança de cada célula como bandas da imagem\n",
    "neighbor = dataset.neighborhoodToBands(ee.Kernel.circle(ee.Number(radius_pixels)))"
   ]
  },
  {
   "cell_type": "code",
   "execution_count": 39,
   "id": "b4930809",
   "metadata": {},
   "outputs": [],
   "source": [
    "# Calcule o máximo da vizinhança\n",
    "elevation_max = neighbor.reduce(ee.Reducer.max())\n",
    "\n",
    "# Calcule o mínimo da vizinhança\n",
    "elevation_min = neighbor.reduce(ee.Reducer.min())\n",
    "\n",
    "# Calcule a amplitude da vizinhança\n",
    "elevation_range = elevation_max.subtract(elevation_min).abs()\n",
    "\n",
    "# Crie uma imagem com as bandas de varidedade de landforms e amplitude de elevação \n",
    "# A primeira imagem é o x da regressão e a segunda é o y\n",
    "\n",
    "elevation = (ee.Image.cat(dataset, elevation_range)\n",
    "            .rename(['landform_variety', 'elevation_range']))"
   ]
  },
  {
   "cell_type": "code",
   "execution_count": 46,
   "id": "385bd6de",
   "metadata": {},
   "outputs": [],
   "source": [
    "# Rode uma regressão linear (OLS) entre varidade de landforms e amplitude de elevação\n",
    "regression = elevation.reduceRegion(**{\n",
    "     'reducer': ee.Reducer.linearFit(),\n",
    "     'geometry': bioma_box,\n",
    "     'maxPixels': 1e13,\n",
    "     'scale': escala\n",
    "    })"
   ]
  },
  {
   "cell_type": "code",
   "execution_count": 41,
   "id": "9ec9e3fe",
   "metadata": {},
   "outputs": [],
   "source": [
    "# Calcule o valor predito, pela regressão, de amplitude elevação, sem intercepto \n",
    "pred = elevation.select('landform_variety').multiply(ee.Number(regression.get('scale')))\n",
    "\n",
    "# Adicione o intercepto na predição\n",
    "predict = pred.add(ee.Number(regression.get('offset')))\n",
    "\n",
    "# Calcule o residuo da regressão\n",
    "residuals = elevation.select('elevation_range').subtract(predict).rename(['residuals'])"
   ]
  },
  {
   "cell_type": "code",
   "execution_count": 42,
   "id": "057f2127",
   "metadata": {},
   "outputs": [],
   "source": [
    "# Exporte a amplitude de elevação residual como asset\n",
    "assetId = \"projects/ee-lucasljardim9/assets/elevetion_range_residual\"\n",
    "\n",
    "geemap.ee_export_image_to_asset(\n",
    "    residuals, \n",
    "    description='elevation_range_residual', \n",
    "    assetId=assetId, \n",
    "    region=bioma_box, \n",
    "    scale=escala, \n",
    "    maxPixels=1e13\n",
    ")"
   ]
  },
  {
   "cell_type": "code",
   "execution_count": 27,
   "id": "b372b108",
   "metadata": {},
   "outputs": [],
   "source": [
    "js_snippet = \"\"\"\n",
    "Export.image.toAsset({\n",
    "  'image': residuals,\n",
    "  'description': 'elevation_range_residual',\n",
    "  'assetId': 'projects/ee-lucasljardim9/assets/elevation_range_residual',\n",
    "  'pyramidingPolicy': \"mean\",\n",
    "  'scale': 92.76624,\n",
    "  'region': bioma,\n",
    "  'maxPixels': 5072319225\n",
    "})\n",
    "\n",
    "\n",
    "\"\"\""
   ]
  },
  {
   "cell_type": "code",
   "execution_count": 28,
   "id": "b588defd",
   "metadata": {},
   "outputs": [],
   "source": [
    "geemap.js_snippet_to_py(\n",
    "    js_snippet, add_new_cell=True, import_ee=True, import_geemap=True, show_map=True\n",
    ")"
   ]
  },
  {
   "cell_type": "code",
   "execution_count": null,
   "id": "10d1e316",
   "metadata": {},
   "outputs": [],
   "source": [
    "import ee\n",
    "import geemap\n",
    "\n",
    "Map = geemap.Map()\n",
    "import geemap\n",
    "\n",
    "Map = geemap.Map()\n",
    "\n",
    "Export.image.toAsset({\n",
    "  'image': residuals,\n",
    "  'description': 'elevation_range_residual',\n",
    "  'assetId': 'projects/ee-lucasljardim9/assets/elevation_range_residual',\n",
    "  'pyramidingPolicy': \"mean\",\n",
    "  'scale': 92.76624,\n",
    "  'region': bioma,\n",
    "  'maxPixels': 5072319225\n",
    "})\n",
    "\n",
    "Map"
   ]
  },
  {
   "cell_type": "code",
   "execution_count": null,
   "id": "ca4de1b8",
   "metadata": {},
   "outputs": [],
   "source": []
  }
 ],
 "metadata": {
  "kernelspec": {
   "display_name": "Python 3 (ipykernel)",
   "language": "python",
   "name": "python3"
  },
  "language_info": {
   "codemirror_mode": {
    "name": "ipython",
    "version": 3
   },
   "file_extension": ".py",
   "mimetype": "text/x-python",
   "name": "python",
   "nbconvert_exporter": "python",
   "pygments_lexer": "ipython3",
   "version": "3.8.10"
  }
 },
 "nbformat": 4,
 "nbformat_minor": 5
}
