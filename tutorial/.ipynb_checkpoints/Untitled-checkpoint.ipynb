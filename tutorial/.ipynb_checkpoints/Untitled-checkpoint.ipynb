{
 "cells": [
  {
   "cell_type": "code",
   "execution_count": null,
   "id": "c47ae8b9",
   "metadata": {},
   "outputs": [],
   "source": [
    "# Amplitude de Elevação"
   ]
  },
  {
   "cell_type": "code",
   "execution_count": null,
   "id": "1850f453",
   "metadata": {},
   "outputs": [],
   "source": [
    "## Importando pacotes e inicializando geemap"
   ]
  },
  {
   "cell_type": "code",
   "execution_count": 1,
   "id": "1f647c4b",
   "metadata": {},
   "outputs": [],
   "source": [
    "import os\n",
    "import ee\n",
    "import geemap"
   ]
  },
  {
   "cell_type": "code",
   "execution_count": 2,
   "id": "993db817",
   "metadata": {},
   "outputs": [],
   "source": [
    "geemap.ee_initialize()"
   ]
  },
  {
   "cell_type": "markdown",
   "id": "83e8a4d6",
   "metadata": {},
   "source": [
    "A amplitude de elevação foi calculada como a diferença entre a elevação máxima e mínima dentro da vizinhaça da célula focal. \n",
    "Como essa métrica é correlacionada com a variedade de *landforms*, nós calculamos o resíduos de uma \n",
    "regressão (Ordinary Least Squares) entre as duas váriaveis. Assim, a amplitude de elevação residual é independente da variedade de *landforms*, permitindo a identificação de locais que tenham maior variabilidade microclimática que a proporcionada pela variedade de *landforms*, quando compormos o índice de diversidade da paisagem."
   ]
  },
  {
   "cell_type": "markdown",
   "id": "5947d752",
   "metadata": {},
   "source": [
    "## Base de Dados\n",
    "\n"
   ]
  },
  {
   "cell_type": "markdown",
   "id": "793344cf",
   "metadata": {},
   "source": [
    "## Códigos para o cálculo da amplitude de elevação residual"
   ]
  },
  {
   "cell_type": "code",
   "execution_count": null,
   "id": "8e2cbb3b",
   "metadata": {},
   "outputs": [],
   "source": [
    "# Importando mapa de biomas do IBGE para extrair as coordenadas mínimas e máximas do Brasil\n",
    "bioma = ee.FeatureCollection(\"projects/ee-lucasljardim9/assets/Biome\")\n",
    "\n",
    "def func_cmp(feature):\n",
    "    return feature.bounds() \n",
    "\n",
    "# Extraindo as coordenadas mínimas e máximas do Brasil\n",
    "bioma_box = bioma.map(func_cmp).geometry().dissolve(**{'maxError': 1}).bounds()"
   ]
  },
  {
   "cell_type": "code",
   "execution_count": null,
   "id": "b372b108",
   "metadata": {},
   "outputs": [],
   "source": [
    "js_snippet = \"\"\"\n",
    "// Load an image.\n",
    "var image = ee.Image('LANDSAT/LC08/C01/T1_TOA/LC08_044034_20140318');\n",
    "\n",
    "// Define the visualization parameters.\n",
    "var vizParams = {\n",
    "  bands: ['B5', 'B4', 'B3'],\n",
    "  min: 0,\n",
    "  max: 0.5,\n",
    "  gamma: [0.95, 1.1, 1]\n",
    "};\n",
    "\n",
    "// Center the map and display the image.\n",
    "Map.setCenter(-122.1899, 37.5010, 10); // San Francisco Bay\n",
    "Map.addLayer(image, vizParams, 'false color composite');\n",
    "\n",
    "\"\"\""
   ]
  },
  {
   "cell_type": "code",
   "execution_count": null,
   "id": "b588defd",
   "metadata": {},
   "outputs": [],
   "source": [
    "geemap.js_snippet_to_py(\n",
    "    js_snippet, add_new_cell=True, import_ee=True, import_geemap=True, show_map=True\n",
    ")"
   ]
  }
 ],
 "metadata": {
  "kernelspec": {
   "display_name": "Python 3 (ipykernel)",
   "language": "python",
   "name": "python3"
  },
  "language_info": {
   "codemirror_mode": {
    "name": "ipython",
    "version": 3
   },
   "file_extension": ".py",
   "mimetype": "text/x-python",
   "name": "python",
   "nbconvert_exporter": "python",
   "pygments_lexer": "ipython3",
   "version": "3.8.10"
  }
 },
 "nbformat": 4,
 "nbformat_minor": 5
}
